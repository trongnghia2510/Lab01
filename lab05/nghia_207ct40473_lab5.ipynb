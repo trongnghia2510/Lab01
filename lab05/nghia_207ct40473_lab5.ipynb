{
  "cells": [
    {
      "cell_type": "code",
      "execution_count": 1,
      "metadata": {
        "id": "FGU-mrqYzBQ0"
      },
      "outputs": [],
      "source": [
        "#khai báo các thư viện\n",
        "import numpy as np\n",
        "import pandas as pd\n",
        "from scipy import stats\n",
        "import seaborn as sns\n",
        "from scipy.stats import kurtosis\n",
        "from matplotlib import pyplot as plt"
      ]
    },
    {
      "cell_type": "code",
      "execution_count": 2,
      "metadata": {
        "colab": {
          "base_uri": "https://localhost:8080/",
          "height": 419
        },
        "id": "sbQgBvm5zAQZ",
        "outputId": "d349560e-8c5c-4854-8832-c03029afb67b"
      },
      "outputs": [
        {
          "data": {
            "text/html": [
              "<div>\n",
              "<style scoped>\n",
              "    .dataframe tbody tr th:only-of-type {\n",
              "        vertical-align: middle;\n",
              "    }\n",
              "\n",
              "    .dataframe tbody tr th {\n",
              "        vertical-align: top;\n",
              "    }\n",
              "\n",
              "    .dataframe thead th {\n",
              "        text-align: right;\n",
              "    }\n",
              "</style>\n",
              "<table border=\"1\" class=\"dataframe\">\n",
              "  <thead>\n",
              "    <tr style=\"text-align: right;\">\n",
              "      <th></th>\n",
              "      <th>bwt</th>\n",
              "      <th>smoke</th>\n",
              "    </tr>\n",
              "  </thead>\n",
              "  <tbody>\n",
              "    <tr>\n",
              "      <th>0</th>\n",
              "      <td>120.0</td>\n",
              "      <td>0.0</td>\n",
              "    </tr>\n",
              "    <tr>\n",
              "      <th>1</th>\n",
              "      <td>113.0</td>\n",
              "      <td>0.0</td>\n",
              "    </tr>\n",
              "    <tr>\n",
              "      <th>2</th>\n",
              "      <td>128.0</td>\n",
              "      <td>1.0</td>\n",
              "    </tr>\n",
              "    <tr>\n",
              "      <th>3</th>\n",
              "      <td>123.0</td>\n",
              "      <td>0.0</td>\n",
              "    </tr>\n",
              "    <tr>\n",
              "      <th>4</th>\n",
              "      <td>108.0</td>\n",
              "      <td>1.0</td>\n",
              "    </tr>\n",
              "    <tr>\n",
              "      <th>...</th>\n",
              "      <td>...</td>\n",
              "      <td>...</td>\n",
              "    </tr>\n",
              "    <tr>\n",
              "      <th>1232</th>\n",
              "      <td>128.0</td>\n",
              "      <td>0.0</td>\n",
              "    </tr>\n",
              "    <tr>\n",
              "      <th>1233</th>\n",
              "      <td>130.0</td>\n",
              "      <td>1.0</td>\n",
              "    </tr>\n",
              "    <tr>\n",
              "      <th>1234</th>\n",
              "      <td>125.0</td>\n",
              "      <td>0.0</td>\n",
              "    </tr>\n",
              "    <tr>\n",
              "      <th>1235</th>\n",
              "      <td>117.0</td>\n",
              "      <td>0.0</td>\n",
              "    </tr>\n",
              "    <tr>\n",
              "      <th>1236</th>\n",
              "      <td>NaN</td>\n",
              "      <td>NaN</td>\n",
              "    </tr>\n",
              "  </tbody>\n",
              "</table>\n",
              "<p>1237 rows × 2 columns</p>\n",
              "</div>"
            ],
            "text/plain": [
              "        bwt  smoke\n",
              "0     120.0    0.0\n",
              "1     113.0    0.0\n",
              "2     128.0    1.0\n",
              "3     123.0    0.0\n",
              "4     108.0    1.0\n",
              "...     ...    ...\n",
              "1232  128.0    0.0\n",
              "1233  130.0    1.0\n",
              "1234  125.0    0.0\n",
              "1235  117.0    0.0\n",
              "1236    NaN    NaN\n",
              "\n",
              "[1237 rows x 2 columns]"
            ]
          },
          "execution_count": 2,
          "metadata": {},
          "output_type": "execute_result"
        }
      ],
      "source": [
        "# lấy dữ liệu\n",
        "df = pd.read_fwf(\"https://raw.githubusercontent.com/huynhhoc/DataAnalystDeepLearning/main/Data/babies.txt\")\n",
        "df"
      ]
    },
    {
      "attachments": {},
      "cell_type": "markdown",
      "metadata": {
        "id": "xstEk6Kv7Xn7"
      },
      "source": [
        "2. Biểu diễn hình học của dữ liệu\n",
        "\n",
        "1. Dữ liệu cân nặng của trẻ trong trường hợp bà mẹ hút thuốc và bà mẹ không hút thuốc \n",
        "Ta sẽ phân tích các biểu đồ:\n",
        "Histogram và Boxplot\n",
        "\n",
        "a. Histogram và Boxplot trong trường hợp bà mẹ có hút thuốc:"
      ]
    },
    {
      "cell_type": "code",
      "execution_count": 9,
      "metadata": {
        "colab": {
          "base_uri": "https://localhost:8080/",
          "height": 282
        },
        "id": "4UvXPTgf7Wji",
        "outputId": "dfaa9c21-acc2-4fad-d468-5aadc09314c4"
      },
      "outputs": [
        {
          "data": {
            "text/plain": [
              "<matplotlib.axes._subplots.AxesSubplot at 0x7fcccb94f910>"
            ]
          },
          "execution_count": 9,
          "metadata": {},
          "output_type": "execute_result"
        },
        {
          "data": {
            "image/png": "[encoded data removed]",
            "text/plain": [
              "<Figure size 432x288 with 1 Axes>"
            ]
          },
          "metadata": {
            "needs_background": "light"
          },
          "output_type": "display_data"
        }
      ],
      "source": [
        "df.loc[(df.smoke== 1),'bwt'].plot.hist()\n",
        "#vẽ biểu đồ histogram của cột 'bwt' chỉ với các dòng trong DataFrame 'df' mà giá trị của cột 'smoke' là 1."
      ]
    },
    {
      "cell_type": "code",
      "execution_count": 10,
      "metadata": {
        "colab": {
          "base_uri": "https://localhost:8080/",
          "height": 296
        },
        "id": "vsmJetUK_nmE",
        "outputId": "652c0dfb-f1b2-4700-8810-10af8b2db632"
      },
      "outputs": [
        {
          "data": {
            "text/plain": [
              "<matplotlib.axes._subplots.AxesSubplot at 0x7fcccb7b8090>"
            ]
          },
          "execution_count": 10,
          "metadata": {},
          "output_type": "execute_result"
        },
        {
          "data": {
            "image/png": "[encoded data removed]",
            "text/plain": [
              "<Figure size 432x288 with 1 Axes>"
            ]
          },
          "metadata": {
            "needs_background": "light"
          },
          "output_type": "display_data"
        }
      ],
      "source": [
        "sns.boxplot(x='bwt', data = df.loc[(df.smoke== 1)])\n",
        "#vẽ biểu đồ boxplot của cột 'bwt' cho nhóm người hút thuốc (những hàng trong DataFrame 'df' mà có giá trị 'smoke' là 1)."
      ]
    },
    {
      "cell_type": "markdown",
      "metadata": {
        "id": "RKhV3urQELQF"
      },
      "source": [
        "b. Histogram và Boxplot trong trường hợp bà mẹ không hút thuốc:"
      ]
    },
    {
      "cell_type": "code",
      "execution_count": 11,
      "metadata": {
        "colab": {
          "base_uri": "https://localhost:8080/",
          "height": 282
        },
        "id": "jxx6uYKdGCtb",
        "outputId": "999ba282-8868-4188-c1d3-0da5a55983a7"
      },
      "outputs": [
        {
          "data": {
            "text/plain": [
              "<matplotlib.axes._subplots.AxesSubplot at 0x7fcccb726f90>"
            ]
          },
          "execution_count": 11,
          "metadata": {},
          "output_type": "execute_result"
        },
        {
          "data": {
            "image/png": "[encoded data removed]",
            "text/plain": [
              "<Figure size 432x288 with 1 Axes>"
            ]
          },
          "metadata": {
            "needs_background": "light"
          },
          "output_type": "display_data"
        }
      ],
      "source": [
        "df.loc[(df.smoke== 0),'bwt'].plot.hist()\n",
        "#vẽ biểu đồ histogram của cột 'bwt' chỉ với các dòng trong DataFrame 'df' mà giá trị của cột 'smoke' là 0. "
      ]
    },
    {
      "cell_type": "code",
      "execution_count": 12,
      "metadata": {
        "colab": {
          "base_uri": "https://localhost:8080/",
          "height": 296
        },
        "id": "JO2MXOtpGK1T",
        "outputId": "4765aa68-9601-4c7e-d959-266a6081bdad"
      },
      "outputs": [
        {
          "data": {
            "text/plain": [
              "<matplotlib.axes._subplots.AxesSubplot at 0x7fcccb6ae6d0>"
            ]
          },
          "execution_count": 12,
          "metadata": {},
          "output_type": "execute_result"
        },
        {
          "data": {
            "image/png": "[encoded data removed]",
            "text/plain": [
              "<Figure size 432x288 with 1 Axes>"
            ]
          },
          "metadata": {
            "needs_background": "light"
          },
          "output_type": "display_data"
        }
      ],
      "source": [
        "sns.boxplot(x='bwt', data = df.loc[(df.smoke== 0)])\n",
        "#vẽ biểu đồ boxplot của cột 'bwt' cho nhóm người không hút thuốc (những hàng trong DataFrame 'df' mà có giá trị 'smoke' là 0)"
      ]
    },
    {
      "attachments": {},
      "cell_type": "markdown",
      "metadata": {
        "id": "ovv6oY-kHaMm"
      },
      "source": [
        "2. Dữ liệu cân nặng của trẻ trong trường hợp bà mẹ hút thuốc không hút thuốc\n",
        "\n",
        "a. Histogram"
      ]
    },
    {
      "cell_type": "code",
      "execution_count": 13,
      "metadata": {
        "colab": {
          "base_uri": "https://localhost:8080/",
          "height": 282
        },
        "id": "Z4Wz8Z2eGLs5",
        "outputId": "154f9d32-f423-4f65-af95-9c4c6bd7587e"
      },
      "outputs": [
        {
          "data": {
            "text/plain": [
              "<matplotlib.axes._subplots.AxesSubplot at 0x7fcccb662850>"
            ]
          },
          "execution_count": 13,
          "metadata": {},
          "output_type": "execute_result"
        },
        {
          "data": {
            "image/png": "[encoded data removed]",
            "text/plain": [
              "<Figure size 432x288 with 1 Axes>"
            ]
          },
          "metadata": {
            "needs_background": "light"
          },
          "output_type": "display_data"
        }
      ],
      "source": [
        "df.loc[(df.smoke== 0),'bwt'].plot.hist()\n",
        "df.loc[(df.smoke== 1),'bwt'].plot.hist()\n",
        "#so sánh phân phối của cột 'bwt' giữa hai nhóm người khác nhau: nhóm không hút thuốc (smoke == 0) và nhóm hút thuốc (smoke == 1)."
      ]
    },
    {
      "cell_type": "markdown",
      "metadata": {
        "id": "yV_9nO7kJJwr"
      },
      "source": [
        "b. Boxplot"
      ]
    },
    {
      "cell_type": "code",
      "execution_count": 14,
      "metadata": {
        "colab": {
          "base_uri": "https://localhost:8080/",
          "height": 297
        },
        "id": "p7T3jHcAIzMj",
        "outputId": "e9454dab-3a2f-4b2a-fe3f-6a5d16375907"
      },
      "outputs": [
        {
          "data": {
            "text/plain": [
              "<matplotlib.axes._subplots.AxesSubplot at 0x7fcccb5c9210>"
            ]
          },
          "execution_count": 14,
          "metadata": {},
          "output_type": "execute_result"
        },
        {
          "data": {
            "image/png": "[encoded data removed]",
            "text/plain": [
              "<Figure size 432x288 with 1 Axes>"
            ]
          },
          "metadata": {
            "needs_background": "light"
          },
          "output_type": "display_data"
        }
      ],
      "source": [
        "sns.boxplot(x='smoke', y='bwt',data= df)\n",
        "#sự khác biệt về phân phối của cột 'bwt' giữa hai nhóm dựa trên giá trị của cột 'smoke'."
      ]
    },
    {
      "cell_type": "markdown",
      "metadata": {
        "id": "GhAlN3CCMjOn"
      },
      "source": [
        "**So sánh QQ-plot phân bố của 2 tập dữ liệu:**"
      ]
    },
    {
      "cell_type": "code",
      "execution_count": 15,
      "metadata": {
        "colab": {
          "base_uri": "https://localhost:8080/",
          "height": 629
        },
        "id": "MJEojf5wM9RC",
        "outputId": "049b2deb-2fbd-455e-d4e2-7cf56fc5207e"
      },
      "outputs": [
        {
          "name": "stderr",
          "output_type": "stream",
          "text": [
            "/usr/local/lib/python3.7/dist-packages/statsmodels/tools/_testing.py:19: FutureWarning: pandas.util.testing is deprecated. Use the functions in the public API at pandas.testing instead.\n",
            "  import pandas.util.testing as tm\n"
          ]
        },
        {
          "data": {
            "image/png": "[encoded data removed]",
            "text/plain": [
              "<Figure size 432x288 with 1 Axes>"
            ]
          },
          "metadata": {
            "needs_background": "light"
          },
          "output_type": "display_data"
        },
        {
          "data": {
            "image/png": "[encoded data removed]",
            "text/plain": [
              "<Figure size 432x288 with 1 Axes>"
            ]
          },
          "metadata": {
            "needs_background": "light"
          },
          "output_type": "display_data"
        }
      ],
      "source": [
        "import statsmodels.api as sm\n",
        "import scipy.stats as stats\n",
        "sm.qqplot(df.loc[(df.smoke== 0),'bwt'], line=\"s\")\n",
        "plt.title('QQ-plot trường hợp bà mẹ không hút thuốc')\n",
        "plt.show()\n",
        "sm.qqplot(df.loc[(df.smoke== 1),'bwt'],line=\"s\")\n",
        "plt.title('QQ-plot trường hợp bà mẹ hút thuốc')\n",
        "plt.show()\n",
        "#Đồ thị QQ-plot được sử dụng để đánh giá mối quan hệ giữa phân phối của dữ liệu và phân phối chuẩn. Nếu các điểm trên đồ thị gần với đường thẳng chuẩn (line=\"s\"), cho thấy dữ liệu có thể tuân theo phân phối chuẩn. "
      ]
    }
  ],
  "metadata": {
    "colab": {
      "authorship_tag": "ABX9TyP9pzXDqYMmCOIAVIjGfH/K",
      "collapsed_sections": [],
      "include_colab_link": true,
      "name": "Homeworks_lab05.ipynb",
      "provenance": []
    },
    "kernelspec": {
      "display_name": "Python 3",
      "name": "python3"
    },
    "language_info": {
      "name": "python"
    }
  },
  "nbformat": 4,
  "nbformat_minor": 0
}
